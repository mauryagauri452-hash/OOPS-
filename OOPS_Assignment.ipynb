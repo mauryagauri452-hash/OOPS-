{
  "nbformat": 4,
  "nbformat_minor": 0,
  "metadata": {
    "colab": {
      "provenance": []
    },
    "kernelspec": {
      "name": "python3",
      "display_name": "Python 3"
    },
    "language_info": {
      "name": "python"
    }
  },
  "cells": [
    {
      "cell_type": "markdown",
      "source": [
        " # OOPS\n",
        "\n",
        "\n",
        "1. What is Object - Oriented Programming (OOP)?\n",
        "- Object-Oriented Programming (OOP) is a paradigm that organizes code into classes and objects, focusing on reusability, modularity, and abstraction.\n",
        "\n",
        "2. What is a class in OOP?\n",
        "- A class is a blueprint or template that defines attributes (data) and methods (behavior) for creating objects.\n",
        "\n",
        "3. What is an object in OOP?\n",
        "- An object is an instance of a class that contains its own data and can perform class-defined operations.\n",
        "\n",
        "4. What is the difference between abstraction and encapsulation?\n",
        "- Abstraction hides implementation details and shows only essential features, while encapsulation restricts access to internal data using methods.\n",
        "\n",
        "5. What are dunder methods in Python?\n",
        "- Dunder (double underscore) methods like __init__, __str__, and __len__ are special methods that customize class behavior.\n",
        "\n",
        "6. Explain the concept of inheritance in OOP.\n",
        "- Inheritance allows one class to derive from another, reusing and extending its attributes and methods.\n",
        "\n",
        "7. What is polymorphism in OOP?\n",
        "- Polymorphism means the same function or method name can behave differently depending on the object that calls it.\n",
        "\n",
        "8. How is encapsulation achieved in Python?\n",
        "- Encapsulation is achieved by making attributes private using _ or __ and providing getters/setters for controlled access.\n",
        "\n",
        "9. What is a constructor in Python?\n",
        "- A constructor is the __init__ method that initializes an object when it is created.\n",
        "\n",
        "10. What are class and static methods in Python?\n",
        "- @classmethod takes cls and works on the class itself, while @staticmethod doesn’t take self or cls and behaves like a normal function inside a class.\n",
        "\n",
        "11. What is method overloading in Python?\n",
        "- Python doesn’t support true method overloading; instead, default arguments and *args can be used to mimic it.\n",
        "\n",
        "12. What is method overriding in OOP?\n",
        "- When a subclass provides its own implementation of a method that already exists in the parent class.\n",
        "\n",
        "13. What is a property decorator in Python?\n",
        "- @property allows methods to be accessed like attributes, often used for getters.\n",
        "\n",
        "14. Why is polymorphism important in OOP?\n",
        "- It improves flexibility, reusability, and makes code more general and scalable.\n",
        "\n",
        "15. What is an abstract class in Python?\n",
        "- An abstract class (from abc module) contains abstract methods and cannot be instantiated directly.\n",
        "\n",
        "16. What are the advantages of OOP?\n",
        "- OOP provides modularity, reusability, maintainability, and scalability for complex applications.\n",
        "\n",
        "17. What is the difference between a class variable and an instance variable?\n",
        "- Class variables are shared across all objects, while instance variables are unique to each object.\n",
        "\n",
        "18. What is multiple inheritance in Python?\n",
        "- A class can inherit from more than one parent class, combining their functionality.\n",
        "\n",
        "19. Explain the  Purpose of __str__ and __repr__ methods in python?\n",
        "- __str__ gives a user-friendly string representation, while __repr__ gives an official/debug representation.\n",
        "\n",
        "20.  What is the significance of the ‘super()’ function in Python?\n",
        "- super() is used to call methods or constructors of the parent class in a child class.\n",
        "\n",
        "21. What is the significance of the __del__ method in Python?\n",
        "- It is a destructor method called when an object is about to be destroyed, used for cleanup.\n",
        "\n",
        "22.  What is the difference between @staticmethod and @classmethod in Python?\n",
        "- @staticmethod has no access to class or instance, while @classmethod works with class-level data using cls.\n",
        "\n",
        "23. How does polymorphism work in python with inheritance?\n",
        "- Child classes override parent methods, and the same method call behaves differently depending on the object.\n",
        "\n",
        "24. What is method chaining in Python OOP?\n",
        "- Method chaining is calling multiple methods in a single line by returning self from each method.\n",
        "\n",
        "25. What is the purpose of the __call__ method in Python?\n",
        "- It allows an object to be called like a function, enabling custom callable objects"
      ],
      "metadata": {
        "id": "lpwJAekNPGc6"
      }
    },
    {
      "cell_type": "code",
      "source": [
        "\"\"\"1.. Create a parent class Animal with a method speak() that prints a generic message. Create a child class Dog\n",
        "that overrides the speak() method to print \"Bark!\".\"\"\"\n",
        "\n",
        "class Animal:\n",
        "    def speak(self):\n",
        "        print(\"Generic animal sound\")\n",
        "\n",
        "class Dog(Animal):\n",
        "    def speak(self):\n",
        "        print(\"Bark!\")\n",
        "\n",
        "Dog().speak()"
      ],
      "metadata": {
        "colab": {
          "base_uri": "https://localhost:8080/"
        },
        "id": "MSf7UGrWWEQR",
        "outputId": "019da09b-dab9-4b4b-d6b6-ee61b56cd124"
      },
      "execution_count": 2,
      "outputs": [
        {
          "output_type": "stream",
          "name": "stdout",
          "text": [
            "Bark!\n"
          ]
        }
      ]
    },
    {
      "cell_type": "code",
      "source": [
        "\"\"\" 2.. Write a program to create an abstract class Shape with a method area(). Derive classes Circle and Rectangle\n",
        "from it and implement the area() method in both.\n",
        "\"\"\"\n",
        "\n",
        "from abc import ABC, abstractmethod\n",
        "class Shape(ABC):\n",
        "    @abstractmethod\n",
        "    def area(self): pass\n",
        "\n",
        "class Circle(Shape):\n",
        "    def __init__(self,r): self.r=r\n",
        "    def area(self): return 3.14*self.r**2\n",
        "\n",
        "class Rectangle(Shape):\n",
        "    def __init__(self,l,w): self.l=l; self.w=w\n",
        "    def area(self): return self.l*self.w"
      ],
      "metadata": {
        "id": "hT1qbbDCXf-r"
      },
      "execution_count": 3,
      "outputs": []
    },
    {
      "cell_type": "code",
      "source": [
        "\"\"\"3.. Implement a multi-level inheritance scenario where a class Vehicle has an attribute type. Derive a class Car\n",
        "and further derive a class ElectricCar that adds a battery attribute\n",
        "\"\"\"\n",
        "\n",
        "class Vehicle:\n",
        "    def __init__(self,type): self.type=type\n",
        "\n",
        "class Car(Vehicle):\n",
        "    def __init__(self,type,brand): super().__init__(type); self.brand=brand\n",
        "\n",
        "class ElectricCar(Car):\n",
        "    def __init__(self,type,brand,battery): super().__init__(type,brand); self.battery=battery\n",
        "\n"
      ],
      "metadata": {
        "id": "YTgz0HwfYto3"
      },
      "execution_count": null,
      "outputs": []
    },
    {
      "cell_type": "code",
      "source": [
        "\"\"\"4.. Demonstrate polymorphism by creating a base class Bird with a method fly(). Create two derived classes\n",
        "Sparrow and Penguin that override the fly() method.\n",
        "\"\"\"\n",
        "class Bird:\n",
        "    def fly(self): print(\"Some birds fly\")\n",
        "\n",
        "class Sparrow(Bird):\n",
        "    def fly(self): print(\"Sparrow flies\")\n",
        "\n",
        "class Penguin(Bird):\n",
        "    def fly(self): print(\"Penguin can't fly\")\n",
        "\n",
        "for b in [Sparrow(), Penguin()]: b.fly()\n"
      ],
      "metadata": {
        "colab": {
          "base_uri": "https://localhost:8080/"
        },
        "id": "nJJfEdh6aRdT",
        "outputId": "a6270489-170f-45d3-f9ca-b35cf7cf3c09"
      },
      "execution_count": 4,
      "outputs": [
        {
          "output_type": "stream",
          "name": "stdout",
          "text": [
            "Sparrow flies\n",
            "Penguin can't fly\n"
          ]
        }
      ]
    },
    {
      "cell_type": "code",
      "source": [
        "\"\"\"5..Write a program to demonstrate encapsulation by creating a class BankAccount with private attributes\n",
        "balance and methods to deposit, withdraw, and check balance\n",
        "\"\"\"\n",
        "class BankAccount:\n",
        "    def __init__(self, balance):\n",
        "        self.__balance = balance   # private attribute\n",
        "\n",
        "    def deposit(self, amt):\n",
        "        self.__balance += amt\n",
        "\n",
        "    def withdraw(self, amt):\n",
        "        self.__balance -= amt\n",
        "\n",
        "    def check(self):\n",
        "        return self.__balance"
      ],
      "metadata": {
        "id": "SrYMda5sa18H"
      },
      "execution_count": 5,
      "outputs": []
    },
    {
      "cell_type": "code",
      "source": [
        "\"\"\"6..Demonstrate runtime polymorphism using a method play() in a base class Instrument. Derive classes Guitar\n",
        "and Piano that implement their own version of play().\n",
        "\"\"\"\n",
        "\n",
        "class Instrument:\n",
        "    def play(self): pass\n",
        "\n",
        "class Guitar(Instrument):\n",
        "    def play(self): print(\"Playing Guitar\")\n",
        "\n",
        "class Piano(Instrument):\n",
        "    def play(self): print(\"Playing Piano\")\n"
      ],
      "metadata": {
        "id": "s4TuaVSAcc8i"
      },
      "execution_count": null,
      "outputs": []
    },
    {
      "cell_type": "code",
      "source": [
        "\"\"\"7..Create a class MathOperations with a class method add_numbers() to add two numbers and a static\n",
        "method subtract_numbers() to subtract two numbers.\n",
        "\"\"\"\n",
        "class MathOperations:\n",
        "    @classmethod\n",
        "    def add_numbers(cls,a,b): return a+b\n",
        "    @staticmethod\n",
        "    def sub_numbers(a,b): return a-b\n"
      ],
      "metadata": {
        "id": "DGBloNyMc4ND"
      },
      "execution_count": null,
      "outputs": []
    },
    {
      "cell_type": "code",
      "source": [
        "\"\"\"8.. Implement a class Person with a class method to count the total number of persons created\n",
        "\"\"\"\n",
        "class Person:\n",
        "    count=0\n",
        "    def __init__(self): Person.count+=1\n",
        "    @classmethod\n",
        "    def total(cls): return cls.count\n"
      ],
      "metadata": {
        "id": "tlfgtkKZdM_L"
      },
      "execution_count": null,
      "outputs": []
    },
    {
      "cell_type": "code",
      "source": [
        "\"\"\"9.. Write a class Fraction with attributes numerator and denominator. Override the str method to display the\n",
        "fraction as \"numerator/denominator\".\n",
        "\"\"\"\n",
        "class Fraction:\n",
        "    def __init__(self,n,d): self.n=n; self.d=d\n",
        "    def __str__(self): return f\"{self.n}/{self.d}\"\n"
      ],
      "metadata": {
        "id": "gg67wLQodc8O"
      },
      "execution_count": null,
      "outputs": []
    },
    {
      "cell_type": "code",
      "source": [
        "\"\"\"10.. Demonstrate operator overloading by creating a class Vector and overriding the add method to add two\n",
        "vectors.\n",
        "\"\"\"\n",
        "class Vector:\n",
        "    def __init__(self,x,y): self.x=x; self.y=y\n",
        "    def __add__(self,other): return Vector(self.x+other.x,self.y+other.y)\n"
      ],
      "metadata": {
        "id": "nh0HMZ3sduz8"
      },
      "execution_count": null,
      "outputs": []
    },
    {
      "cell_type": "code",
      "source": [
        "\"\"\"11..Create a class Person with attributes name and age. Add a method greet() that prints \"Hello, my name is\n",
        "{name} and I am {age} years old.\"\n",
        "\"\"\"\n",
        "class Person:\n",
        "    def __init__(self,n,a): self.name=n; self.age=a\n",
        "    def greet(self): print(f\"Hello, my name is {self.name} and I am {self.age} years old\")\n"
      ],
      "metadata": {
        "id": "xnVEiiU7eDV_"
      },
      "execution_count": null,
      "outputs": []
    },
    {
      "cell_type": "code",
      "source": [
        "\"\"\"12.. Implement a class Student with attributes name and grades. Create a method average_grade() to compute\n",
        "the average of the grades.\n",
        "\"\"\"\n",
        "class Student:\n",
        "    def __init__(self,n,g): self.name=n; self.grades=g\n",
        "    def average_grade(self): return sum(self.grades)/len(self.grades)\n"
      ],
      "metadata": {
        "id": "we7rViBteUUC"
      },
      "execution_count": null,
      "outputs": []
    },
    {
      "cell_type": "code",
      "source": [
        "\"\"\"13..Create a class Rectangle with methods set_dimensions() to set the dimensions and area() to calculate the\n",
        "area.\n",
        "\"\"\"\n",
        "class Rectangle:\n",
        "    def set_dimensions(self,l,w): self.l=l; self.w=w\n",
        "    def area(self): return self.l*self.w\n"
      ],
      "metadata": {
        "id": "usfF8Plge-56"
      },
      "execution_count": null,
      "outputs": []
    },
    {
      "cell_type": "code",
      "source": [
        "\"\"\"14.. Create a class Employee with a method calculate_salary() that computes the salary based on hours worked\n",
        "and hourly rate. Create a derived class Manager that adds a bonus to the salary.\"\"\"\n",
        "class Employee:\n",
        "    def __init__(self,h,r): self.h=h; self.r=r\n",
        "    def calc_salary(self): return self.h*self.r\n",
        "\n",
        "class Manager(Employee):\n",
        "    def __init__(self,h,r,b): super().__init__(h,r); self.b=b\n",
        "    def calc_salary(self): return super().calc_salary()+self.b\n"
      ],
      "metadata": {
        "id": "bK8DFdTbfKhl"
      },
      "execution_count": 6,
      "outputs": []
    },
    {
      "cell_type": "code",
      "source": [
        "\"\"\"15.. Create a class Product with attributes name, price, and quantity. Implement a method total_price() that\n",
        "calculates the total price of the product\n",
        "\"\"\"\n",
        "class Product:\n",
        "    def __init__(self,n,p,q): self.name=n; self.price=p; self.qty=q\n",
        "    def total_price(self): return self.price*self.qty\n"
      ],
      "metadata": {
        "id": "6NTRYAJZf909"
      },
      "execution_count": null,
      "outputs": []
    },
    {
      "cell_type": "code",
      "source": [
        "\"\"\"16..Create a class Animal with an abstract method sound(). Create two derived classes Cow and Sheep that\n",
        "implement the sound() method.\n",
        "\"\"\"\n",
        "\n",
        "from abc import ABC,abstractmethod\n",
        "class Animal(ABC):\n",
        "    @abstractmethod\n",
        "    def sound(self): pass\n",
        "\n",
        "class Cow(Animal):\n",
        "    def sound(self): print(\"Moo\")\n",
        "\n",
        "class Sheep(Animal):\n",
        "    def sound(self): print(\"Baa\")\n"
      ],
      "metadata": {
        "id": "8l2SqoOcgQeU"
      },
      "execution_count": null,
      "outputs": []
    },
    {
      "cell_type": "code",
      "source": [
        "\"\"\"17.. Create a class Book with attributes title, author, and year_published. Add a method get_book_info() that\n",
        "returns a formatted string with the book's details.\n",
        "\"\"\"\n",
        "class Book:\n",
        "    def __init__(self,t,a,y): self.t=t; self.a=a; self.y=y\n",
        "    def get_info(self): return f\"{self.t} by {self.a}, published {self.y}\"\n"
      ],
      "metadata": {
        "id": "B-9HfayPgllh"
      },
      "execution_count": null,
      "outputs": []
    },
    {
      "cell_type": "code",
      "source": [
        "\"\"\"18.. Create a class House with attributes address and price. Create a derived class Mansion that adds an\n",
        "attribute number_of_rooms\n",
        "\"\"\"\n",
        "class House:\n",
        "    def __init__(self,addr,price): self.addr=addr; self.price=price\n",
        "\n",
        "class Mansion(House):\n",
        "    def __init__(self,addr,price,rooms): super().__init__(addr,price); self.rooms=rooms\n"
      ],
      "metadata": {
        "id": "BnUNaG7AgwXh"
      },
      "execution_count": null,
      "outputs": []
    }
  ]
}